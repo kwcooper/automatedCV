{
 "cells": [
  {
   "cell_type": "code",
   "execution_count": 1,
   "metadata": {},
   "outputs": [
    {
     "name": "stdout",
     "output_type": "stream",
     "text": [
      "Collecting semanticscholar\n",
      "  Downloading https://files.pythonhosted.org/packages/f6/74/29969b6f5a052b490a2b25db99ad93e035e74ea6a05d8e2d5d7d9942b723/semanticscholar-0.1.6-py3-none-any.whl\n",
      "Collecting tenacity (from semanticscholar)\n",
      "  Downloading https://files.pythonhosted.org/packages/41/ee/d6eddff86161c6a3a1753af4a66b06cbc508d3b77ca4698cd0374cd66531/tenacity-7.0.0-py2.py3-none-any.whl\n",
      "Collecting requests (from semanticscholar)\n",
      "  Using cached https://files.pythonhosted.org/packages/29/c1/24814557f1d22c56d50280771a17307e6bf87b70727d975fd6b2ce6b014a/requests-2.25.1-py2.py3-none-any.whl\n",
      "Collecting six>=1.9.0 (from tenacity->semanticscholar)\n",
      "  Downloading https://files.pythonhosted.org/packages/d9/5a/e7c31adbe875f2abbb91bd84cf2dc52d792b5a01506781dbcf25c91daf11/six-1.16.0-py2.py3-none-any.whl\n",
      "Collecting certifi>=2017.4.17 (from requests->semanticscholar)\n",
      "  Using cached https://files.pythonhosted.org/packages/5e/a0/5f06e1e1d463903cf0c0eebeb751791119ed7a4b3737fdc9a77f1cdfb51f/certifi-2020.12.5-py2.py3-none-any.whl\n",
      "Collecting idna<3,>=2.5 (from requests->semanticscholar)\n",
      "  Using cached https://files.pythonhosted.org/packages/a2/38/928ddce2273eaa564f6f50de919327bf3a00f091b5baba8dfa9460f3a8a8/idna-2.10-py2.py3-none-any.whl\n",
      "Collecting urllib3<1.27,>=1.21.1 (from requests->semanticscholar)\n",
      "  Using cached https://files.pythonhosted.org/packages/09/c6/d3e3abe5b4f4f16cf0dfc9240ab7ce10c2baa0e268989a4e3ec19e90c84e/urllib3-1.26.4-py2.py3-none-any.whl\n",
      "Collecting chardet<5,>=3.0.2 (from requests->semanticscholar)\n",
      "  Using cached https://files.pythonhosted.org/packages/19/c7/fa589626997dd07bd87d9269342ccb74b1720384a4d739a1872bd84fbe68/chardet-4.0.0-py2.py3-none-any.whl\n",
      "Installing collected packages: six, tenacity, certifi, idna, urllib3, chardet, requests, semanticscholar\n",
      "Successfully installed certifi-2020.12.5 chardet-4.0.0 idna-3.1 requests-2.25.1 semanticscholar-0.1.6 six-1.16.0 tenacity-7.0.0 urllib3-1.26.4\n"
     ]
    }
   ],
   "source": [
    "!pip3 install semanticscholar\n"
   ]
  },
  {
   "cell_type": "code",
   "execution_count": null,
   "metadata": {},
   "outputs": [],
   "source": []
  },
  {
   "cell_type": "code",
   "execution_count": 2,
   "metadata": {},
   "outputs": [],
   "source": [
    "import semanticscholar as sch"
   ]
  },
  {
   "cell_type": "code",
   "execution_count": 3,
   "metadata": {},
   "outputs": [],
   "source": [
    "auth_id = 89510954\n",
    "author = sch.author(auth_id, timeout=2)"
   ]
  },
  {
   "cell_type": "code",
   "execution_count": 5,
   "metadata": {},
   "outputs": [
    {
     "data": {
      "text/plain": [
       "dict_keys(['aliases', 'authorId', 'dblpId', 'influentialCitationCount', 'name', 'papers', 'url'])"
      ]
     },
     "execution_count": 5,
     "metadata": {},
     "output_type": "execute_result"
    }
   ],
   "source": [
    "author.keys()"
   ]
  },
  {
   "cell_type": "code",
   "execution_count": 6,
   "metadata": {},
   "outputs": [
    {
     "data": {
      "text/plain": [
       "0"
      ]
     },
     "execution_count": 6,
     "metadata": {},
     "output_type": "execute_result"
    }
   ],
   "source": [
    "author['influentialCitationCount']"
   ]
  },
  {
   "cell_type": "code",
   "execution_count": 9,
   "metadata": {},
   "outputs": [
    {
     "data": {
      "text/plain": [
       "dict_keys(['paperId', 'title', 'url', 'year'])"
      ]
     },
     "execution_count": 9,
     "metadata": {},
     "output_type": "execute_result"
    }
   ],
   "source": [
    "author['papers'][0].keys()"
   ]
  },
  {
   "cell_type": "code",
   "execution_count": 15,
   "metadata": {},
   "outputs": [
    {
     "name": "stdout",
     "output_type": "stream",
     "text": [
      "More than smell – COVID-19 is associated with severe impairment of smell, taste, and chemesthesis\n",
      "numCitedBy 108\n",
      "numCiting 140\n",
      "Chemical senses\n",
      "\n",
      "COVID-19 and the Chemical Senses: Supporting Players Take Center Stage\n",
      "numCitedBy 66\n",
      "numCiting 289\n",
      "Neuron\n",
      "\n",
      "Corona Viruses and the Chemical Senses: Past, Present, and Future\n",
      "numCitedBy 42\n",
      "numCiting 115\n",
      "Chemical senses\n",
      "\n",
      "Smell and taste changes are early indicators of the COVID-19 pandemic and political decision effectiveness\n",
      "numCitedBy 17\n",
      "numCiting 20\n",
      "Nature communications\n",
      "\n",
      "Medial entorhinal cortex activates in a traveling wave\n",
      "numCitedBy 0\n",
      "numCiting 37\n",
      "\n",
      "\n",
      "Avalanche: an End-to-End Library for Continual Learning\n",
      "numCitedBy 2\n",
      "numCiting 50\n",
      "ArXiv\n",
      "\n",
      "The best COVID-19 predictor is recent smell loss: a cross-sectional study\n",
      "numCitedBy 9\n",
      "numCiting 37\n",
      "\n",
      "\n",
      "Can the Machine Understand: An Evidence Based Approach to the Chinese Room\n",
      "numCitedBy 1\n",
      "numCiting 18\n",
      "\n",
      "\n",
      "Medial entorhinal cortex activates in a traveling wave in the rat\n",
      "numCitedBy 9\n",
      "numCiting 52\n",
      "eLife\n",
      "\n",
      "Recent smell loss is the best predictor of COVID-19: a preregistered, cross-sectional study\n",
      "numCitedBy 11\n",
      "numCiting 0\n",
      "medRxiv\n",
      "\n",
      "Recent Smell Loss Is the Best Predictor of COVID-19 Among Individuals With Recent Respiratory Symptoms\n",
      "numCitedBy 15\n",
      "numCiting 51\n",
      "Chemical senses\n",
      "\n",
      "Author response: Medial entorhinal cortex activates in a traveling wave in the rat\n",
      "numCitedBy 1\n",
      "numCiting 0\n",
      "\n",
      "\n"
     ]
    },
    {
     "data": {
      "text/plain": [
       "dict_keys(['abstract', 'arxivId', 'authors', 'citationVelocity', 'citations', 'corpusId', 'doi', 'fieldsOfStudy', 'influentialCitationCount', 'isOpenAccess', 'isPublisherLicensed', 'numCitedBy', 'numCiting', 'paperId', 'references', 'title', 'topics', 'url', 'venue', 'year'])"
      ]
     },
     "execution_count": 15,
     "metadata": {},
     "output_type": "execute_result"
    }
   ],
   "source": [
    "total_citations = 0\n",
    "for pi in range(len(author['papers'])):\n",
    "    paper_link = author['papers'][pi]['paperId']\n",
    "    paper = sch.paper(paper_link, timeout=2)\n",
    "\n",
    "\n",
    "    print(paper['title'])\n",
    "    print('numCitedBy', paper['numCitedBy'])\n",
    "    print('numCiting', paper['numCiting'])\n",
    "    #print('citations', paper['citations'])\n",
    "    print(paper['venue'])\n",
    "    print()\n",
    "    \n",
    "    total_citations += paper['numCitedBy']\n",
    "\n",
    "paper.keys()"
   ]
  },
  {
   "cell_type": "code",
   "execution_count": 16,
   "metadata": {},
   "outputs": [
    {
     "data": {
      "text/plain": [
       "281"
      ]
     },
     "execution_count": 16,
     "metadata": {},
     "output_type": "execute_result"
    }
   ],
   "source": [
    "total_citations"
   ]
  },
  {
   "cell_type": "code",
   "execution_count": null,
   "metadata": {},
   "outputs": [],
   "source": []
  }
 ],
 "metadata": {
  "kernelspec": {
   "display_name": "Python 3",
   "language": "python",
   "name": "python3"
  },
  "language_info": {
   "codemirror_mode": {
    "name": "ipython",
    "version": 3
   },
   "file_extension": ".py",
   "mimetype": "text/x-python",
   "name": "python",
   "nbconvert_exporter": "python",
   "pygments_lexer": "ipython3",
   "version": "3.6.9"
  }
 },
 "nbformat": 4,
 "nbformat_minor": 2
}

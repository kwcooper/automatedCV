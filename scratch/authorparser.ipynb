{
 "cells": [
  {
   "cell_type": "code",
   "execution_count": null,
   "metadata": {},
   "outputs": [],
   "source": []
  },
  {
   "cell_type": "code",
   "execution_count": null,
   "metadata": {},
   "outputs": [],
   "source": []
  },
  {
   "cell_type": "code",
   "execution_count": null,
   "metadata": {},
   "outputs": [],
   "source": []
  },
  {
   "cell_type": "code",
   "execution_count": 1,
   "metadata": {},
   "outputs": [
    {
     "name": "stdout",
     "output_type": "stream",
     "text": [
      "Hello\n"
     ]
    }
   ],
   "source": [
    "from jinja2 import Template ##newline##   \n",
    "\n",
    "def clever_function(): \n",
    "    return \"Hello\" \n",
    "\n",
    "template = Template(\"{{ clever_function() }}\") \n",
    "\n",
    "print(template.render(clever_function=clever_function))"
   ]
  },
  {
   "cell_type": "code",
   "execution_count": null,
   "metadata": {},
   "outputs": [],
   "source": []
  },
  {
   "cell_type": "code",
   "execution_count": 4,
   "metadata": {},
   "outputs": [],
   "source": [
    "testcorpus = ['Shahbaba, B., Li, L., Agostinelli, F., Saraf, M., Elias, G. A., Cooper, K. W., Baldi, P.,  Fortin, N. J.', \n",
    "              \"Pierron, D., Pereda-Loth, V., Mantel, M., Moranges, M., Bignon, E., Alva, O.,  Cooper, K. W., ... Dinnella, C. \", \n",
    "              \"Keiland Cooper\"\n",
    "              ]"
   ]
  },
  {
   "cell_type": "code",
   "execution_count": 23,
   "metadata": {},
   "outputs": [
    {
     "name": "stdout",
     "output_type": "stream",
     "text": [
      "Shahbaba, B., Li, L., Agostinelli, F., Saraf, M., Elias, G. A., \\textbf{Cooper, K. W.}, Baldi, P.,  Fortin, N. J.\n",
      "Pierron, D., Pereda-Loth, V., Mantel, M., Moranges, M., Bignon, E., Alva, O.,  \\textbf{Cooper, K. W.}, ... Dinnella, C. \n",
      "\\textbf{Keiland Cooper}\n"
     ]
    }
   ],
   "source": [
    "\n",
    "author_alias = ['Cooper, K. W.', 'Keiland Cooper', 'Keiland W. Cooper.']\n",
    "\n",
    "tst = testcorpus[0]\n",
    "\n",
    "def bold_author(authors):\n",
    "    for tag in author_alias:\n",
    "        if tag in authors:\n",
    "            x = authors.replace(tag, f'\\\\textbf{{{tag}}}')\n",
    "            return x\n",
    "\n",
    "for aNames in testcorpus:\n",
    "    print(bold_author(aNames))\n",
    "    \n"
   ]
  },
  {
   "cell_type": "code",
   "execution_count": null,
   "metadata": {},
   "outputs": [],
   "source": []
  }
 ],
 "metadata": {
  "kernelspec": {
   "display_name": "Python 3",
   "language": "python",
   "name": "python3"
  },
  "language_info": {
   "codemirror_mode": {
    "name": "ipython",
    "version": 3
   },
   "file_extension": ".py",
   "mimetype": "text/x-python",
   "name": "python",
   "nbconvert_exporter": "python",
   "pygments_lexer": "ipython3",
   "version": "3.6.9"
  }
 },
 "nbformat": 4,
 "nbformat_minor": 2
}

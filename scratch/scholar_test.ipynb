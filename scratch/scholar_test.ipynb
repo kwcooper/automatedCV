{
 "cells": [
  {
   "cell_type": "code",
   "execution_count": 57,
   "metadata": {},
   "outputs": [],
   "source": [
    "import collections\n",
    "\n",
    "import numpy as np\n",
    "import matplotlib.pyplot as plt\n",
    "\n",
    "from scholarly import scholarly\n"
   ]
  },
  {
   "cell_type": "code",
   "execution_count": null,
   "metadata": {},
   "outputs": [],
   "source": []
  },
  {
   "cell_type": "code",
   "execution_count": 2,
   "metadata": {},
   "outputs": [
    {
     "name": "stdout",
     "output_type": "stream",
     "text": [
      "352\n"
     ]
    }
   ],
   "source": [
    "# code for initial metrics\n",
    "from scholarly import scholarly\n",
    "myID = 'nCEUdSoAAAAJ'\n",
    "\n",
    "author = scholarly.search_author_id(myID)\n",
    "print(author['citedby'])"
   ]
  },
  {
   "cell_type": "code",
   "execution_count": null,
   "metadata": {},
   "outputs": [],
   "source": []
  },
  {
   "cell_type": "code",
   "execution_count": null,
   "metadata": {},
   "outputs": [],
   "source": []
  },
  {
   "cell_type": "code",
   "execution_count": 4,
   "metadata": {},
   "outputs": [],
   "source": [
    "myID = 'nCEUdSoAAAAJ'\n",
    "\n",
    "author = scholarly.search_author_id(myID)"
   ]
  },
  {
   "cell_type": "code",
   "execution_count": 5,
   "metadata": {},
   "outputs": [
    {
     "name": "stdout",
     "output_type": "stream",
     "text": [
      "{'affiliation': 'University of California, Irvine',\n",
      " 'citedby': 335,\n",
      " 'email_domain': '@uci.edu',\n",
      " 'filled': False,\n",
      " 'interests': ['Neuroscience',\n",
      "               'Learning and Memory',\n",
      "               'Artificial Intelligence',\n",
      "               'Cognitive Science',\n",
      "               'Olfaction'],\n",
      " 'name': 'Keiland Cooper',\n",
      " 'scholar_id': 'nCEUdSoAAAAJ',\n",
      " 'source': 'AUTHOR_PROFILE_PAGE',\n",
      " 'url_picture': 'https://scholar.googleusercontent.com/citations?view_op=view_photo&user=nCEUdSoAAAAJ&citpid=3'}\n"
     ]
    }
   ],
   "source": [
    "scholarly.pprint(author)"
   ]
  },
  {
   "cell_type": "code",
   "execution_count": 39,
   "metadata": {
    "scrolled": false
   },
   "outputs": [
    {
     "data": {
      "text/plain": [
       "{'container_type': 'Author',\n",
       " 'filled': {'basics', 'publications'},\n",
       " 'scholar_id': 'nCEUdSoAAAAJ',\n",
       " 'source': <AuthorSource.AUTHOR_PROFILE_PAGE: 1>,\n",
       " 'name': 'Keiland Cooper',\n",
       " 'url_picture': 'https://scholar.googleusercontent.com/citations?view_op=view_photo&user=nCEUdSoAAAAJ&citpid=3',\n",
       " 'affiliation': 'University of California, Irvine',\n",
       " 'interests': ['Neuroscience',\n",
       "  'Learning and Memory',\n",
       "  'Artificial Intelligence',\n",
       "  'Cognitive Science',\n",
       "  'Olfaction'],\n",
       " 'email_domain': '@uci.edu',\n",
       " 'citedby': 335,\n",
       " 'publications': [{'container_type': 'Publication',\n",
       "   'source': <PublicationSource.AUTHOR_PUBLICATION_ENTRY: 2>,\n",
       "   'bib': {'title': 'More than smell—COVID-19 is associated with severe impairment of smell, taste, and chemesthesis',\n",
       "    'pub_year': 2020,\n",
       "    'author': 'Valentina Parma and Kathrin Ohla and Maria G Veldhuizen and Masha Y Niv and Christine E Kelly and Alyssa J Bakke and Keiland W Cooper and Cédric Bouysset and Nicola Pirastu and Michele Dibattista and Rishemjit Kaur and Marco Tullio Liuzza and Marta Y Pepino and Veronika Schöpf and Veronica Pereda-Loth and Shannon B Olsson and Richard C Gerkin and Paloma Rohlfs Domínguez and Javier Albayay and Michael C Farruggia and Surabhi Bhutani and Alexander W Fjaeldstad and Ritesh Kumar and Anna Menini and Moustafa Bensafi and Mari Sandell and Iordanis Konstantinidis and Antonella Di Pizio and Federica Genovese and Lina Öztürk and Thierry Thomas-Danguin and Johannes Frasnelli and Sanne Boesveldt and Özlem Saatci and Luis R Saraiva and Cailu Lin and Jérôme Golebiowski and Liang-Dar Hwang and Mehmet Hakan Ozdener and Maria Dolors Guàrdia and Christophe Laudamiel and Marina Ritchie and Jan Havlícek and Denis Pierron and Eugeni Roura and Marta Navarro and Alissa A Nolden and Juyun Lim and Katherine L Whitcroft and Lauren R Colquitt and Camille Ferdenzi and Evelyn V Brindha and Aytug Altundag and Alberto Macchi and Alexia Nunez-Parra and Zara M Patel and Sébastien Fiorucci and Carl M Philpott and Barry C Smith and Johan N Lundström and Carla Mucignat and Jane K Parker and Mirjam Van Den Brink and Michael Schmuker and Florian Ph S Fischmeister and Thomas Heinbockel and Vonnie DC Shields and Farhoud Faraji and Enrique Santamaría and William EA Fredborg and Gabriella Morini and Jonas K Olofsson and Maryam Jalessi and Noam Karni and Anna D’errico and Rafieh Alizadeh and Robert Pellegrino and Pablo Meyer and Caroline Huart and Ben Chen and Graciela M Soler and Mohammed K Alwashahi and Antje Welge-Lüssen and Jessica Freiherr and Jasper HB De Groot and Hadar Klein and Masako Okamoto and Preet Bano Singh and Julien W Hsieh and Danielle R Reed and Thomas Hummel and Steven D Munger and John E Hayes',\n",
       "    'journal': 'Chemical Senses',\n",
       "    'volume': '45',\n",
       "    'number': '7',\n",
       "    'pages': '609-622',\n",
       "    'publisher': 'Oxford University Press',\n",
       "    'abstract': 'Recent anecdotal and scientific reports have provided evidence of a link between COVID-19 and chemosensory impairments, such as anosmia. However, these reports have downplayed or failed to distinguish potential effects on taste, ignored chemesthesis, and generally lacked quantitative measurements. Here, we report the development, implementation, and initial results of a multilingual, international questionnaire to assess self-reported quantity and quality of perception in 3 distinct chemosensory modalities (smell, taste, and chemesthesis) before and during COVID-19. In the first 11 days after questionnaire launch, 4039 participants (2913 women, 1118 men, and 8 others, aged 19–79) reported a COVID-19 diagnosis either via laboratory tests or clinical assessment. Importantly, smell, taste, and chemesthetic function were each significantly reduced compared to their status before the disease. Difference …'},\n",
       "   'filled': True,\n",
       "   'author_pub_id': 'nCEUdSoAAAAJ:IjCSPb-OGe4C',\n",
       "   'num_citations': 142,\n",
       "   'pub_url': 'https://academic.oup.com/chemse/article-abstract/45/7/609/5860460',\n",
       "   'cites_id': '15980687377227870635',\n",
       "   'citedby_url': '/scholar?cites=15980687377227870635',\n",
       "   'url_related_articles': '/scholar?oi=bibs&hl=en&q=related:NsSyu1TQjf8J:scholar.google.com/',\n",
       "   'cites_per_year': {2020: 70, 2021: 71},\n",
       "   'eprint_url': 'https://academic.oup.com/chemse/article/45/7/609/5860460'},\n",
       "  {'container_type': 'Publication',\n",
       "   'source': <PublicationSource.AUTHOR_PUBLICATION_ENTRY: 2>,\n",
       "   'bib': {'title': 'COVID-19 and the chemical senses: supporting players take center stage',\n",
       "    'pub_year': '2020'},\n",
       "   'filled': False,\n",
       "   'author_pub_id': 'nCEUdSoAAAAJ:Tyk-4Ss8FVUC',\n",
       "   'num_citations': 82},\n",
       "  {'container_type': 'Publication',\n",
       "   'source': <PublicationSource.AUTHOR_PUBLICATION_ENTRY: 2>,\n",
       "   'bib': {'title': 'Coronaviruses and the chemical senses: past, present, and future',\n",
       "    'pub_year': '2020'},\n",
       "   'filled': False,\n",
       "   'author_pub_id': 'nCEUdSoAAAAJ:W7OEmFMy1HYC',\n",
       "   'num_citations': 48},\n",
       "  {'container_type': 'Publication',\n",
       "   'source': <PublicationSource.AUTHOR_PUBLICATION_ENTRY: 2>,\n",
       "   'bib': {'title': 'Recent smell loss is the best predictor of COVID-19 among individuals with recent respiratory symptoms',\n",
       "    'pub_year': '2020'},\n",
       "   'filled': False,\n",
       "   'author_pub_id': 'nCEUdSoAAAAJ:0EnyYjriUFMC',\n",
       "   'num_citations': 31},\n",
       "  {'container_type': 'Publication',\n",
       "   'source': <PublicationSource.AUTHOR_PUBLICATION_ENTRY: 2>,\n",
       "   'bib': {'title': 'Smell and taste changes are early indicators of the COVID-19 pandemic and political decision effectiveness',\n",
       "    'pub_year': '2020'},\n",
       "   'filled': False,\n",
       "   'author_pub_id': 'nCEUdSoAAAAJ:roLk4NBRz8UC',\n",
       "   'num_citations': 25},\n",
       "  {'container_type': 'Publication',\n",
       "   'source': <PublicationSource.AUTHOR_PUBLICATION_ENTRY: 2>,\n",
       "   'bib': {'title': 'Medial entorhinal cortex activates in a traveling wave in the rat',\n",
       "    'pub_year': '2020'},\n",
       "   'filled': False,\n",
       "   'author_pub_id': 'nCEUdSoAAAAJ:u-x6o8ySG0sC',\n",
       "   'num_citations': 5},\n",
       "  {'container_type': 'Publication',\n",
       "   'source': <PublicationSource.AUTHOR_PUBLICATION_ENTRY: 2>,\n",
       "   'bib': {'title': 'Can the Machine Understand: An Evidence Based Approach to the Chinese Room',\n",
       "    'pub_year': '2018'},\n",
       "   'filled': False,\n",
       "   'author_pub_id': 'nCEUdSoAAAAJ:u5HHmVD_uO8C',\n",
       "   'num_citations': 2},\n",
       "  {'container_type': 'Publication',\n",
       "   'source': <PublicationSource.AUTHOR_PUBLICATION_ENTRY: 2>,\n",
       "   'bib': {'title': 'Avalanche: an End-to-End Library for Continual Learning',\n",
       "    'pub_year': '2021'},\n",
       "   'filled': False,\n",
       "   'author_pub_id': 'nCEUdSoAAAAJ:5nxA0vEk-isC',\n",
       "   'num_citations': 0},\n",
       "  {'container_type': 'Publication',\n",
       "   'source': <PublicationSource.AUTHOR_PUBLICATION_ENTRY: 2>,\n",
       "   'bib': {'title': 'Cholinergic modulation may explain hippocampal encoding and retrieval mode switching',\n",
       "    'pub_year': 2019,\n",
       "    'author': 'Keiland W. Cooper'},\n",
       "   'filled': True,\n",
       "   'author_pub_id': 'nCEUdSoAAAAJ:UebtZRa9Y70C',\n",
       "   'num_citations': 0,\n",
       "   'cites_per_year': {}}]}"
      ]
     },
     "execution_count": 39,
     "metadata": {},
     "output_type": "execute_result"
    }
   ],
   "source": [
    "author"
   ]
  },
  {
   "cell_type": "code",
   "execution_count": 92,
   "metadata": {},
   "outputs": [
    {
     "name": "stdout",
     "output_type": "stream",
     "text": [
      "{'title': 'More than smell—COVID-19 is associated with severe impairment of smell, taste, and chemesthesis', 'pub_year': 2020, 'author': 'Valentina Parma and Kathrin Ohla and Maria G Veldhuizen and Masha Y Niv and Christine E Kelly and Alyssa J Bakke and Keiland W Cooper and Cédric Bouysset and Nicola Pirastu and Michele Dibattista and Rishemjit Kaur and Marco Tullio Liuzza and Marta Y Pepino and Veronika Schöpf and Veronica Pereda-Loth and Shannon B Olsson and Richard C Gerkin and Paloma Rohlfs Domínguez and Javier Albayay and Michael C Farruggia and Surabhi Bhutani and Alexander W Fjaeldstad and Ritesh Kumar and Anna Menini and Moustafa Bensafi and Mari Sandell and Iordanis Konstantinidis and Antonella Di Pizio and Federica Genovese and Lina Öztürk and Thierry Thomas-Danguin and Johannes Frasnelli and Sanne Boesveldt and Özlem Saatci and Luis R Saraiva and Cailu Lin and Jérôme Golebiowski and Liang-Dar Hwang and Mehmet Hakan Ozdener and Maria Dolors Guàrdia and Christophe Laudamiel and Marina Ritchie and Jan Havlícek and Denis Pierron and Eugeni Roura and Marta Navarro and Alissa A Nolden and Juyun Lim and Katherine L Whitcroft and Lauren R Colquitt and Camille Ferdenzi and Evelyn V Brindha and Aytug Altundag and Alberto Macchi and Alexia Nunez-Parra and Zara M Patel and Sébastien Fiorucci and Carl M Philpott and Barry C Smith and Johan N Lundström and Carla Mucignat and Jane K Parker and Mirjam Van Den Brink and Michael Schmuker and Florian Ph S Fischmeister and Thomas Heinbockel and Vonnie DC Shields and Farhoud Faraji and Enrique Santamaría and William EA Fredborg and Gabriella Morini and Jonas K Olofsson and Maryam Jalessi and Noam Karni and Anna D’errico and Rafieh Alizadeh and Robert Pellegrino and Pablo Meyer and Caroline Huart and Ben Chen and Graciela M Soler and Mohammed K Alwashahi and Antje Welge-Lüssen and Jessica Freiherr and Jasper HB De Groot and Hadar Klein and Masako Okamoto and Preet Bano Singh and Julien W Hsieh and Danielle R Reed and Thomas Hummel and Steven D Munger and John E Hayes', 'journal': 'Chemical Senses', 'volume': '45', 'number': '7', 'pages': '609-622', 'publisher': 'Oxford University Press', 'abstract': 'Recent anecdotal and scientific reports have provided evidence of a link between COVID-19 and chemosensory impairments, such as anosmia. However, these reports have downplayed or failed to distinguish potential effects on taste, ignored chemesthesis, and generally lacked quantitative measurements. Here, we report the development, implementation, and initial results of a multilingual, international questionnaire to assess self-reported quantity and quality of perception in 3 distinct chemosensory modalities (smell, taste, and chemesthesis) before and during COVID-19. In the first 11 days after questionnaire launch, 4039 participants (2913 women, 1118 men, and 8 others, aged 19–79) reported a COVID-19 diagnosis either via laboratory tests or clinical assessment. Importantly, smell, taste, and chemesthetic function were each significantly reduced compared to their status before the disease. Difference …'}\n",
      "{'title': 'COVID-19 and the chemical senses: supporting players take center stage', 'pub_year': '2020'}\n",
      "{'title': 'Coronaviruses and the chemical senses: past, present, and future', 'pub_year': '2020'}\n",
      "{'title': 'Recent smell loss is the best predictor of COVID-19 among individuals with recent respiratory symptoms', 'pub_year': '2020'}\n",
      "{'title': 'Smell and taste changes are early indicators of the COVID-19 pandemic and political decision effectiveness', 'pub_year': '2020'}\n",
      "{'title': 'Medial entorhinal cortex activates in a traveling wave in the rat', 'pub_year': '2020'}\n",
      "{'title': 'Can the Machine Understand: An Evidence Based Approach to the Chinese Room', 'pub_year': '2018'}\n",
      "{'title': 'Avalanche: an End-to-End Library for Continual Learning', 'pub_year': '2021'}\n",
      "{'title': 'Cholinergic modulation may explain hippocampal encoding and retrieval mode switching', 'pub_year': 2019, 'author': 'Keiland W. Cooper'}\n"
     ]
    }
   ],
   "source": [
    "for pub in auth2fill['publications']:\n",
    "    print(pub['bib'])"
   ]
  },
  {
   "cell_type": "code",
   "execution_count": 91,
   "metadata": {},
   "outputs": [
    {
     "name": "stdout",
     "output_type": "stream",
     "text": [
      "{'basics', 'indices', 'publications', 'counts'}\n"
     ]
    },
    {
     "data": {
      "text/plain": [
       "dict_keys(['container_type', 'filled', 'scholar_id', 'source', 'name', 'url_picture', 'affiliation', 'interests', 'email_domain', 'citedby', 'publications', 'citedby5y', 'hindex', 'hindex5y', 'i10index', 'i10index5y', 'cites_per_year'])"
      ]
     },
     "execution_count": 91,
     "metadata": {},
     "output_type": "execute_result"
    }
   ],
   "source": [
    "auth2fill = scholarly.fill(author, sections=['publications', 'basics', 'indices', 'counts'])\n",
    "print(auth2fill['filled'])\n",
    "auth2fill.keys()"
   ]
  },
  {
   "cell_type": "code",
   "execution_count": 84,
   "metadata": {},
   "outputs": [
    {
     "name": "stdout",
     "output_type": "stream",
     "text": [
      "hindex: 5\n",
      "i10index: 5\n",
      "citedby: 335\n",
      "{2019: 1, 2020: 162, 2021: 171}\n"
     ]
    }
   ],
   "source": [
    "print('hindex:', auth2fill['hindex'])\n",
    "print('i10index:', auth2fill['i10index'])\n",
    "print('citedby:', auth2fill['citedby'])\n",
    "print(auth2fill['cites_per_year'])"
   ]
  },
  {
   "cell_type": "code",
   "execution_count": 85,
   "metadata": {},
   "outputs": [
    {
     "name": "stdout",
     "output_type": "stream",
     "text": [
      "Counter({2020: 6, 2018: 1, 2021: 1, 2019: 1})\n",
      "pubSpan: 3 years\n"
     ]
    }
   ],
   "source": [
    "\n",
    "# find number of papers per year\n",
    "pubYears = [int(pub['bib']['pub_year']) for pub in auth2fill['publications']]\n",
    "pubYears\n",
    "\n",
    "pubYearTally = collections.Counter(pubYears)\n",
    "print(pubYearTally)\n",
    "\n",
    "\n",
    "# do some stats with it\n",
    "\n",
    "pubspan = max(set(pubYears)) - min(set(pubYears))\n",
    "print('pubSpan:', pubspan, 'years')"
   ]
  },
  {
   "cell_type": "code",
   "execution_count": 95,
   "metadata": {},
   "outputs": [],
   "source": [
    "# pub_authors = [pub['bib']['author'].split(' and ') for pub in auth2fill['publications']]\n",
    "filled_pubs = [scholarly.fill(pub) for pub in auth2fill['publications']]\n",
    "\n"
   ]
  },
  {
   "cell_type": "code",
   "execution_count": 114,
   "metadata": {
    "scrolled": false
   },
   "outputs": [
    {
     "name": "stdout",
     "output_type": "stream",
     "text": [
      "Total authors: 299\n",
      "[93, 14, 6, 129, 24, 3, 1, 28, 1]\n",
      "200\n",
      "196\n"
     ]
    }
   ],
   "source": [
    "# _ = [print(pub['bib']['title']) for pub in filled_pubs] # print pub titles\n",
    "\n",
    "pub_authors = [pub['bib']['author'].split(' and ') for pub in filled_pubs]\n",
    "all_authors = [auth for pubauth in pub_authors for auth in pubauth]\n",
    "\n",
    "num_auths_pub = [len(auths) for auths in pub_authors]\n",
    "\n",
    "print('Total authors:', len(all_authors))\n",
    "print(num_auths_pub)\n",
    "\n",
    "# Do a bit of string formatting and filtering\n",
    "all_authors_lower = [a.lower() for a in all_authors]\n",
    "print(len(set(all_authors_lower)))\n",
    "\n",
    "me_list = ['keiland cooper', 'keiland w cooper', 'keiland w. cooper', 'keiland wade cooper']\n",
    "all_authors_lower = [a for a in all_authors_lower if a not in me_list]\n",
    "print(len(set(all_authors_lower)))\n",
    "# set(all_authors_lower)"
   ]
  },
  {
   "cell_type": "code",
   "execution_count": 124,
   "metadata": {},
   "outputs": [
    {
     "name": "stdout",
     "output_type": "stream",
     "text": [
      "[ 7.  1.  2. 15. 15.  2.  1. 13.  1.]\n",
      "[ 93.  14.   6. 129.  24.   3.   1.  28.   1.]\n",
      "6.333333333333333 5.94418483337567\n"
     ]
    }
   ],
   "source": [
    "# assuming that scholar has the authors in order, we can compute my authorship position\n",
    "\n",
    "# save the authorship position and n authors\n",
    "# for a given search string (works because my name is unique!)\n",
    "\n",
    "me = 'keiland'\n",
    "pos_store = np.zeros((len(pub_authors)))\n",
    "nauth_store = np.zeros((len(pub_authors)))\n",
    "for pub_i, authors in enumerate(pub_authors):\n",
    "    nauth_store[pub_i] = len(authors)\n",
    "    for pos, auth in enumerate(authors):\n",
    "        if me in auth.lower(): \n",
    "            #print(pos+1, 'of', len(authors))\n",
    "            pos_store[pub_i] = pos+1\n",
    "print(pos_store)\n",
    "print(nauth_store)\n",
    "\n",
    "print(np.mean(pos_store), np.std(pos_store))"
   ]
  },
  {
   "cell_type": "code",
   "execution_count": 166,
   "metadata": {
    "scrolled": false
   },
   "outputs": [
    {
     "name": "stdout",
     "output_type": "stream",
     "text": [
      "(9, 100000)\n"
     ]
    },
    {
     "data": {
      "image/png": "[encoded data removed]",
      "text/plain": [
       "<Figure size 432x288 with 1 Axes>"
      ]
     },
     "metadata": {
      "needs_background": "light"
     },
     "output_type": "display_data"
    },
    {
     "name": "stdout",
     "output_type": "stream",
     "text": [
      "16.1222 5.255449141464364\n",
      "2std thresh: 5.611301717071271 observed: 6.333333333333333\n"
     ]
    }
   ],
   "source": [
    "# quick analysis, is my authorship postion signifigant? \n",
    "# randomly pick an authorship postion from each pub\n",
    "# take the mean, and then plot\n",
    "\n",
    "nIter = 100000\n",
    "\n",
    "auths_sim = np.zeros((len(nauth_store), nIter))\n",
    "for i in range(len(nauth_store)):\n",
    "    auths_sim[i,:] = np.random.randint(0,nauth_store[i], (1,nIter))[0]\n",
    "\n",
    "\n",
    "print(auths_sim.shape)\n",
    "auth_sim_mu = np.mean(auths_sim, axis=0)\n",
    "\n",
    "plt.hist(auth_sim_mu, color='k')\n",
    "plt.show()\n",
    "\n",
    "print(np.mean(auth_sim_mu), np.std(auth_sim_mu))\n",
    "\n",
    "sig_thresh = np.mean(auth_sim_mu) - (2* np.std(auth_sim_mu))\n",
    "print('2std thresh:', sig_thresh, 'observed:', np.mean(pos_store))\n",
    "\n",
    "# haha close, but no cigar\n",
    "# really, this should be relative to the number of authors... "
   ]
  },
  {
   "cell_type": "code",
   "execution_count": 134,
   "metadata": {},
   "outputs": [
    {
     "data": {
      "text/plain": [
       "array([[0, 0, 0, 0, 0, 0, 0, 0, 0, 0, 0, 0, 0, 0, 0, 0, 0, 0, 0, 0, 0, 0,\n",
       "        0, 0, 0, 0, 0, 0, 0, 0, 0, 0, 0, 0, 0, 0, 0, 0, 0, 0, 0, 0, 0, 0,\n",
       "        0, 0, 0, 0, 0, 0, 0, 0, 0, 0, 0, 0, 0, 0, 0, 0, 0, 0, 0, 0, 0, 0,\n",
       "        0, 0, 0, 0, 0, 0, 0, 0, 0, 0, 0, 0, 0, 0, 0, 0, 0, 0, 0, 0, 0, 0,\n",
       "        0, 0, 0, 0, 0, 0, 0, 0, 0, 0, 0, 0]])"
      ]
     },
     "execution_count": 134,
     "metadata": {},
     "output_type": "execute_result"
    }
   ],
   "source": []
  },
  {
   "cell_type": "code",
   "execution_count": null,
   "metadata": {},
   "outputs": [],
   "source": []
  },
  {
   "cell_type": "code",
   "execution_count": 76,
   "metadata": {},
   "outputs": [
    {
     "data": {
      "image/png": "[encoded data removed]",
      "text/plain": [
       "<Figure size 432x288 with 1 Axes>"
      ]
     },
     "metadata": {},
     "output_type": "display_data"
    },
    {
     "data": {
      "image/png": "[encoded data removed]",
      "text/plain": [
       "<Figure size 432x288 with 1 Axes>"
      ]
     },
     "metadata": {},
     "output_type": "display_data"
    }
   ],
   "source": [
    "citeDict = auth2fill['cites_per_year']\n",
    "with plt.xkcd(scale=.7, length=100, randomness=2):\n",
    "    plt.bar(citeDict.keys(), citeDict.values(), color='k')\n",
    "    plt.xticks(list(citeDict.keys()))\n",
    "    plt.ylabel('# Citations')\n",
    "    plt.title('Citations by Year')\n",
    "    plt.show()\n",
    "\n",
    "with plt.xkcd(scale=.7, length=100, randomness=2):\n",
    "    plt.bar(pubYearTally.keys(), pubYearTally.values(), color='k')\n",
    "    plt.xticks(list(pubYearTally.keys()))\n",
    "    plt.ylabel('# Publications')\n",
    "    plt.title('Pubs by Year')\n",
    "    plt.show()"
   ]
  },
  {
   "cell_type": "code",
   "execution_count": null,
   "metadata": {},
   "outputs": [],
   "source": []
  },
  {
   "cell_type": "code",
   "execution_count": null,
   "metadata": {},
   "outputs": [],
   "source": []
  },
  {
   "cell_type": "code",
   "execution_count": 9,
   "metadata": {
    "scrolled": false
   },
   "outputs": [],
   "source": [
    "#scholarly.fill(author, sections=['basics', 'indices', 'coauthors'])\n",
    "author = scholarly.search_author_id(myID)\n",
    "filledAuthor = scholarly.fill(author, sections=['publications'])"
   ]
  },
  {
   "cell_type": "code",
   "execution_count": 18,
   "metadata": {},
   "outputs": [
    {
     "name": "stdout",
     "output_type": "stream",
     "text": [
      "nCEUdSoAAAAJ:IjCSPb-OGe4C 142\n",
      "nCEUdSoAAAAJ:Tyk-4Ss8FVUC 82\n",
      "nCEUdSoAAAAJ:W7OEmFMy1HYC 48\n",
      "nCEUdSoAAAAJ:0EnyYjriUFMC 31\n",
      "nCEUdSoAAAAJ:roLk4NBRz8UC 25\n",
      "nCEUdSoAAAAJ:u-x6o8ySG0sC 5\n",
      "nCEUdSoAAAAJ:u5HHmVD_uO8C 2\n",
      "nCEUdSoAAAAJ:5nxA0vEk-isC 0\n",
      "nCEUdSoAAAAJ:UebtZRa9Y70C 0\n"
     ]
    }
   ],
   "source": [
    "for pub in filledAuthor['publications']:\n",
    "    print(pub['author_pub_id'], pub['num_citations'])"
   ]
  },
  {
   "cell_type": "code",
   "execution_count": 34,
   "metadata": {},
   "outputs": [
    {
     "name": "stdout",
     "output_type": "stream",
     "text": [
      "More than smell—COVID-19 is associated with severe impairment of smell, taste, and chemesthesis\n"
     ]
    }
   ],
   "source": [
    "# print([citation['bib']['title'] for citation in scholarly.citedby(pub)])\n",
    "\n",
    "pub = filledAuthor['publications'][0]\n",
    "print(pub['bib']['title'])\n",
    "#citedJournals = [citation['bib']['journal'] for citation in scholarly.citedby(pub)]\n",
    "\n",
    "noJ = 0\n",
    "citedJournals = []\n",
    "for citation in scholarly.citedby(pub):\n",
    "    try:\n",
    "        citedJournals.append(citation['bib']['venue'])\n",
    "    except KeyError: \n",
    "        noJ += 1\n",
    "        "
   ]
  },
  {
   "cell_type": "code",
   "execution_count": 35,
   "metadata": {},
   "outputs": [
    {
     "data": {
      "text/plain": [
       "(137, 0)"
      ]
     },
     "execution_count": 35,
     "metadata": {},
     "output_type": "execute_result"
    }
   ],
   "source": [
    "len(citedJournals), noJ"
   ]
  },
  {
   "cell_type": "code",
   "execution_count": 38,
   "metadata": {},
   "outputs": [
    {
     "data": {
      "text/plain": [
       "{'container_type': 'Publication',\n",
       " 'source': <PublicationSource.PUBLICATION_SEARCH_SNIPPET: 1>,\n",
       " 'bib': {'title': \"La Covid 19 nous rappelle à quel point le goût et l'arôme des aliments sont essentiels au quotidien!\",\n",
       "  'author': ['G Feron'],\n",
       "  'pub_year': '2021',\n",
       "  'venue': 'Cahiers De Nutrition et De Die´ te´ tique',\n",
       "  'abstract': \"Il y a deux ans, j'avais rendu visite au Professeur Thomas Hummel, médecin exerçant à l'université de Dresde en Allemagne et expert mondialement reconnu des troubles du goût et de l'odorat. Dans sa clinique, Thomas réalise plusieurs centaines de consultation par an\"},\n",
       " 'filled': False,\n",
       " 'gsrank': 137,\n",
       " 'pub_url': 'https://www.ncbi.nlm.nih.gov/pmc/articles/pmc7878113/',\n",
       " 'author_id': ['BWSRViEAAAAJ'],\n",
       " 'num_citations': 0,\n",
       " 'url_scholarbib': '/scholar?q=info:yvS0tVomiqEJ:scholar.google.com/&output=cite&scirp=136&hl=en',\n",
       " 'url_add_sclib': '/citations?hl=en&xsrf=&continue=/scholar%3Fhl%3Den%26start%3D130%26as_sdt%3D2005%26sciodt%3D0,5%26cites%3D15980687377227870635%26scipsc%3D&citilm=1&json=&update_op=library_add&info=yvS0tVomiqEJ&ei=O-mQYIH7MfqB6rQPs8aSsAk',\n",
       " 'eprint_url': 'https://www.ncbi.nlm.nih.gov/pmc/articles/pmc7878113/'}"
      ]
     },
     "execution_count": 38,
     "metadata": {},
     "output_type": "execute_result"
    }
   ],
   "source": [
    "citation"
   ]
  },
  {
   "cell_type": "code",
   "execution_count": 24,
   "metadata": {},
   "outputs": [],
   "source": [
    "# does not handel manually input data well"
   ]
  },
  {
   "cell_type": "code",
   "execution_count": null,
   "metadata": {},
   "outputs": [],
   "source": []
  },
  {
   "cell_type": "code",
   "execution_count": null,
   "metadata": {},
   "outputs": [],
   "source": []
  },
  {
   "cell_type": "markdown",
   "metadata": {},
   "source": [
    "# Clean it all up a bit"
   ]
  },
  {
   "cell_type": "code",
   "execution_count": null,
   "metadata": {},
   "outputs": [],
   "source": []
  },
  {
   "cell_type": "code",
   "execution_count": 167,
   "metadata": {},
   "outputs": [
    {
     "name": "stdout",
     "output_type": "stream",
     "text": [
      "hindex: 5\n",
      "i10index: 5\n",
      "citedby: 335\n",
      "{2019: 1, 2020: 162, 2021: 171}\n",
      "[2020, 2020, 2020, 2020, 2020, 2020, 2018, 2021, 2019]\n",
      "Counter({2020: 6, 2018: 1, 2021: 1, 2019: 1})\n",
      "pubSpan: 3 years\n",
      "Total co-authors: 299\n",
      "[93, 14, 6, 129, 24, 3, 1, 28, 1]\n",
      "200\n",
      "196\n"
     ]
    }
   ],
   "source": [
    "myID = 'nCEUdSoAAAAJ'\n",
    "\n",
    "# Search an author ID and fill the info\n",
    "author = scholarly.search_author_id(myID)\n",
    "authfill = scholarly.fill(author, sections=['publications', \n",
    "                                            'basics', \n",
    "                                            'indices', \n",
    "                                            'counts'])\n",
    "\n",
    "# Fetch some of the basic stats\n",
    "print('hindex:', authfill['hindex'])\n",
    "print('i10index:', authfill['i10index'])\n",
    "print('citedby:', authfill['citedby'])\n",
    "print(authfill['cites_per_year'])\n",
    "\n",
    "\n",
    "\n",
    "# find number of papers per year\n",
    "pubYears = [int(pub['bib']['pub_year']) for pub in authfill['publications']]\n",
    "print(pubYears)\n",
    "\n",
    "pubYearTally = collections.Counter(pubYears)\n",
    "print(pubYearTally)\n",
    "\n",
    "\n",
    "# do some basic stats with it\n",
    "pubspan = max(set(pubYears)) - min(set(pubYears))\n",
    "print('pubSpan:', pubspan, 'years')\n",
    "\n",
    "\n",
    "# Fill the publication objects to use the bib\n",
    "filled_pubs = [scholarly.fill(pub) for pub in authfill['publications']]\n",
    "\n",
    "\n",
    "# _ = [print(pub['bib']['title']) for pub in filled_pubs] # print pub titles\n",
    "\n",
    "# Grab the authors from a scholars publications\n",
    "pub_authors = [pub['bib']['author'].split(' and ') for pub in filled_pubs]\n",
    "all_authors = [auth for pubauth in pub_authors for auth in pubauth]\n",
    "num_auths_pub = [len(auths) for auths in pub_authors]\n",
    "\n",
    "print('Total co-authors:', len(all_authors))\n",
    "print(num_auths_pub)\n",
    "\n",
    "# Do a bit of string formatting and filtering\n",
    "all_authors_lower = [a.lower() for a in all_authors]\n",
    "print(len(set(all_authors_lower)))\n",
    "\n",
    "me_list = ['keiland cooper', 'keiland w cooper', 'keiland w. cooper', 'keiland wade cooper']\n",
    "all_authors_lower = [a for a in all_authors_lower if a not in me_list]\n",
    "print(len(set(all_authors_lower)))"
   ]
  },
  {
   "cell_type": "code",
   "execution_count": null,
   "metadata": {},
   "outputs": [],
   "source": []
  }
 ],
 "metadata": {
  "kernelspec": {
   "display_name": "Python 3",
   "language": "python",
   "name": "python3"
  },
  "language_info": {
   "codemirror_mode": {
    "name": "ipython",
    "version": 3
   },
   "file_extension": ".py",
   "mimetype": "text/x-python",
   "name": "python",
   "nbconvert_exporter": "python",
   "pygments_lexer": "ipython3",
   "version": "3.6.9"
  }
 },
 "nbformat": 4,
 "nbformat_minor": 2
}
